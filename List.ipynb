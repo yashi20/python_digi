{
 "cells": [
  {
   "cell_type": "markdown",
   "metadata": {},
   "source": [
    "# List\n",
    "- list is mutable(item add,remove)\n",
    "- list is hetrogenous (mixed data can be stored)\n",
    "- list can have duplicate values\n",
    "- list is indexed (item have indexes and can be sliced)\n",
    "- list uses '[]' brackets with values inside it separated with commas\n",
    "\n",
    "### what to learn\n",
    "- #### creating  a list\n",
    "- #### indexing and slicing\n",
    "- #### traversal(looping)\n",
    "- #### function(11)\n",
    "- #### comprehension\n",
    "- #### lambda,map and filter"
   ]
  },
  {
   "cell_type": "code",
   "execution_count": 2,
   "metadata": {},
   "outputs": [],
   "source": [
    "names= ['kaladin','adolin','dalinar','wit']\n",
    "factors=[1,2,3,5,1,5]\n",
    "info=['ravi',90,102,False,5.454]\n",
    "c2d=[[1,2,3],[4,5,6],[5,7,8]]\n"
   ]
  },
  {
   "cell_type": "code",
   "execution_count": 3,
   "metadata": {},
   "outputs": [],
   "source": [
    "fact= 'icecubes sits in its own blood'\n",
    "words=fact.split()"
   ]
  },
  {
   "cell_type": "code",
   "execution_count": 4,
   "metadata": {},
   "outputs": [
    {
     "name": "stdout",
     "output_type": "stream",
     "text": [
      "[1, 1, 1, 1, 1, 1, 1, 1, 1, 1]\n"
     ]
    }
   ],
   "source": [
    "x=[1]*10\n",
    "print(x)"
   ]
  },
  {
   "cell_type": "code",
   "execution_count": 5,
   "metadata": {},
   "outputs": [
    {
     "name": "stdout",
     "output_type": "stream",
     "text": [
      "['lion', 'lion', 'lion', 'lion', 'lion', 'lion', 'lion', 'lion', 'lion', 'lion']\n"
     ]
    }
   ],
   "source": [
    "x=['lion']*10\n",
    "print(x)"
   ]
  },
  {
   "cell_type": "code",
   "execution_count": 6,
   "metadata": {},
   "outputs": [
    {
     "name": "stdout",
     "output_type": "stream",
     "text": [
      "[10, 'something', 9]\n"
     ]
    }
   ],
   "source": [
    "a=10\n",
    "b='something'\n",
    "c=9\n",
    "l=[a,b,c]\n",
    "print(l)"
   ]
  },
  {
   "cell_type": "code",
   "execution_count": 7,
   "metadata": {},
   "outputs": [
    {
     "name": "stdout",
     "output_type": "stream",
     "text": [
      "[100, 200]\n"
     ]
    }
   ],
   "source": [
    "kharche=[]\n",
    "kharche.append(100)\n",
    "kharche.append(200)\n",
    "print(kharche)"
   ]
  },
  {
   "cell_type": "code",
   "execution_count": 8,
   "metadata": {},
   "outputs": [
    {
     "name": "stdout",
     "output_type": "stream",
     "text": [
      "['burger', 'pizza', 'french fries']\n"
     ]
    }
   ],
   "source": [
    "fav_foods=[]\n",
    "for i in range(3):\n",
    "    food=input('enter names of ur fav food')\n",
    "    fav_foods.append(food)\n",
    "print(fav_foods)    "
   ]
  },
  {
   "cell_type": "code",
   "execution_count": 9,
   "metadata": {},
   "outputs": [
    {
     "name": "stdout",
     "output_type": "stream",
     "text": [
      "[1, 2, 3, 4, 5, 6, 7, 8, 9, 10, 11, 12, 13, 14, 15, 16, 17, 18, 19, 20, 21, 22, 23, 24, 25, 26, 27, 28, 29, 30, 31, 32, 33, 34, 35, 36, 37, 38, 39, 40, 41, 42, 43, 44, 45, 46, 47, 48, 49, 50, 51, 52, 53, 54, 55, 56, 57, 58, 59, 60, 61, 62, 63, 64, 65, 66, 67, 68, 69, 70, 71, 72, 73, 74, 75, 76, 77, 78, 79, 80, 81, 82, 83, 84, 85, 86, 87, 88, 89, 90, 91, 92, 93, 94, 95, 96, 97, 98, 99, 100]\n"
     ]
    }
   ],
   "source": [
    "nums=[]\n",
    "for i in range(1,101):\n",
    "    nums.append(i)\n",
    "print(nums)    "
   ]
  },
  {
   "cell_type": "code",
   "execution_count": 10,
   "metadata": {},
   "outputs": [
    {
     "data": {
      "text/plain": [
       "'dalinar'"
      ]
     },
     "execution_count": 10,
     "metadata": {},
     "output_type": "execute_result"
    }
   ],
   "source": [
    "names[2]"
   ]
  },
  {
   "cell_type": "code",
   "execution_count": 11,
   "metadata": {},
   "outputs": [
    {
     "data": {
      "text/plain": [
       "'own'"
      ]
     },
     "execution_count": 11,
     "metadata": {},
     "output_type": "execute_result"
    }
   ],
   "source": [
    "words[-2]"
   ]
  },
  {
   "cell_type": "markdown",
   "metadata": {},
   "source": [
    "### functions\n",
    "- adding items\n",
    "  - append'\n",
    "  - insert\n",
    "  - extend\n",
    "- delete items\n",
    "  - remove\n",
    "  - pop\n",
    "  - clear\n",
    "- utility func\n",
    "  - reverse\n",
    "  - sort\n",
    "  - count\n",
    "  - index\n",
    "  - copy  "
   ]
  },
  {
   "cell_type": "code",
   "execution_count": 1,
   "metadata": {},
   "outputs": [
    {
     "data": {
      "text/plain": [
       "['apple', 'banana', 'cherry', 'guava']"
      ]
     },
     "execution_count": 1,
     "metadata": {},
     "output_type": "execute_result"
    }
   ],
   "source": [
    "fruits=[]\n",
    "fruits.append('apple')\n",
    "fruits.append('banana')\n",
    "fruits.append('cherry')\n",
    "fruits.append('guava')\n",
    "fruits\n"
   ]
  },
  {
   "cell_type": "code",
   "execution_count": 2,
   "metadata": {},
   "outputs": [
    {
     "data": {
      "text/plain": [
       "['apple', 'banana', 'cherry', 'fig', 'guava']"
      ]
     },
     "execution_count": 2,
     "metadata": {},
     "output_type": "execute_result"
    }
   ],
   "source": [
    "fruits.insert(-1,'fig')\n",
    "fruits"
   ]
  },
  {
   "cell_type": "code",
   "execution_count": 3,
   "metadata": {},
   "outputs": [
    {
     "data": {
      "text/plain": [
       "['apple', 'banana', 'cherry', 'dragonfruit', 'fig', 'guava']"
      ]
     },
     "execution_count": 3,
     "metadata": {},
     "output_type": "execute_result"
    }
   ],
   "source": [
    "fruits.insert(-2,'dragonfruit')\n",
    "fruits"
   ]
  },
  {
   "cell_type": "code",
   "execution_count": 4,
   "metadata": {},
   "outputs": [
    {
     "data": {
      "text/plain": [
       "['apple', 'banana', 'cherry', 'dragonfruit', 'fig', 'guava', 'rotten apple']"
      ]
     },
     "execution_count": 4,
     "metadata": {},
     "output_type": "execute_result"
    }
   ],
   "source": [
    "fruits.insert(100,'rotten apple')\n",
    "fruits"
   ]
  },
  {
   "cell_type": "code",
   "execution_count": 5,
   "metadata": {},
   "outputs": [
    {
     "data": {
      "text/plain": [
       "['almonds', 'cashew', 'walnut']"
      ]
     },
     "execution_count": 5,
     "metadata": {},
     "output_type": "execute_result"
    }
   ],
   "source": [
    "dry_fruits=['almonds','cashew','walnut']\n",
    "dry_fruits"
   ]
  },
  {
   "cell_type": "code",
   "execution_count": 6,
   "metadata": {},
   "outputs": [
    {
     "data": {
      "text/plain": [
       "['apple',\n",
       " 'banana',\n",
       " 'cherry',\n",
       " 'dragonfruit',\n",
       " 'fig',\n",
       " 'guava',\n",
       " 'rotten apple',\n",
       " 'almonds',\n",
       " 'cashew',\n",
       " 'walnut']"
      ]
     },
     "execution_count": 6,
     "metadata": {},
     "output_type": "execute_result"
    }
   ],
   "source": [
    "fruits.extend(dry_fruits)\n",
    "fruits"
   ]
  },
  {
   "cell_type": "code",
   "execution_count": 10,
   "metadata": {},
   "outputs": [
    {
     "name": "stdout",
     "output_type": "stream",
     "text": [
      "no rotten apple found\n"
     ]
    }
   ],
   "source": [
    "if 'rotten apple' in fruits:\n",
    "    fruits.remove('rotten apple')\n",
    "    print(fruits)\n",
    "else:\n",
    "    print('no rotten apple found')    "
   ]
  },
  {
   "cell_type": "code",
   "execution_count": 8,
   "metadata": {},
   "outputs": [],
   "source": [
    "if 'papaya' in fruits:\n",
    "    fruits.remove('papaya')\n",
    "    fruits"
   ]
  },
  {
   "cell_type": "code",
   "execution_count": 11,
   "metadata": {},
   "outputs": [
    {
     "data": {
      "text/plain": [
       "[1, 2, 3, [1, 2, 3, 4]]"
      ]
     },
     "execution_count": 11,
     "metadata": {},
     "output_type": "execute_result"
    }
   ],
   "source": [
    "x=[1,2,3,[1,2,3,4]]\n",
    "x"
   ]
  },
  {
   "cell_type": "code",
   "execution_count": 14,
   "metadata": {},
   "outputs": [
    {
     "data": {
      "text/plain": [
       "[1, 2, 3, [1, 3, 4]]"
      ]
     },
     "execution_count": 14,
     "metadata": {},
     "output_type": "execute_result"
    }
   ],
   "source": [
    "if 2 in x[3]:\n",
    "    x[3].remove(2)\n",
    "x"
   ]
  },
  {
   "cell_type": "markdown",
   "metadata": {},
   "source": [
    "### pop can be used in 2 way\n",
    " - list.pop() => remove the last value in the list and gives us that value\n",
    " - list.pop(idx) => remove the value from idx if idx is valid and gives the value"
   ]
  },
  {
   "cell_type": "code",
   "execution_count": 15,
   "metadata": {},
   "outputs": [
    {
     "name": "stdout",
     "output_type": "stream",
     "text": [
      "removed_value=> walnut\n",
      "list=> ['apple', 'banana', 'cherry', 'dragonfruit', 'fig', 'guava', 'almonds', 'cashew']\n"
     ]
    }
   ],
   "source": [
    "v=fruits.pop()\n",
    "print('removed_value=>',v)\n",
    "print('list=>',fruits)"
   ]
  },
  {
   "cell_type": "code",
   "execution_count": 16,
   "metadata": {},
   "outputs": [
    {
     "name": "stdout",
     "output_type": "stream",
     "text": [
      "removed_value=> dragonfruit\n",
      "list=> ['apple', 'banana', 'cherry', 'fig', 'guava', 'almonds', 'cashew']\n"
     ]
    }
   ],
   "source": [
    "v=fruits.pop(3)\n",
    "print('removed_value=>',v)\n",
    "print('list=>',fruits)"
   ]
  },
  {
   "cell_type": "code",
   "execution_count": 17,
   "metadata": {},
   "outputs": [
    {
     "data": {
      "text/plain": [
       "[]"
      ]
     },
     "execution_count": 17,
     "metadata": {},
     "output_type": "execute_result"
    }
   ],
   "source": [
    "fruits.clear()\n",
    "fruits"
   ]
  },
  {
   "cell_type": "code",
   "execution_count": 21,
   "metadata": {},
   "outputs": [
    {
     "name": "stdout",
     "output_type": "stream",
     "text": [
      "normal ['spiderman', 'eternals', 'venom', 'free guy', 'nobody']\n",
      "reverse ['nobody', 'free guy', 'venom', 'eternals', 'spiderman']\n"
     ]
    }
   ],
   "source": [
    "movies=['spiderman','eternals','venom','free guy','nobody']\n",
    "print('normal',movies)\n",
    "movies.reverse()\n",
    "print('reverse',movies)"
   ]
  },
  {
   "cell_type": "code",
   "execution_count": 22,
   "metadata": {},
   "outputs": [
    {
     "name": "stdout",
     "output_type": "stream",
     "text": [
      "['eternals', 'free guy', 'nobody', 'spiderman', 'venom']\n"
     ]
    }
   ],
   "source": [
    "movies.sort()\n",
    "print(movies)"
   ]
  },
  {
   "cell_type": "code",
   "execution_count": 23,
   "metadata": {},
   "outputs": [
    {
     "name": "stdout",
     "output_type": "stream",
     "text": [
      "['venom', 'spiderman', 'nobody', 'free guy', 'eternals']\n"
     ]
    }
   ],
   "source": [
    "movies.sort(reverse=True)\n",
    "print(movies)"
   ]
  },
  {
   "cell_type": "code",
   "execution_count": 24,
   "metadata": {},
   "outputs": [
    {
     "name": "stdout",
     "output_type": "stream",
     "text": [
      "['venom', 'spiderman', 'nobody', 'free guy', 'eternals']\n"
     ]
    }
   ],
   "source": [
    "dup_mov=movies.copy()\n",
    "print(dup_mov)"
   ]
  },
  {
   "cell_type": "code",
   "execution_count": 25,
   "metadata": {},
   "outputs": [
    {
     "data": {
      "text/plain": [
       "0"
      ]
     },
     "execution_count": 25,
     "metadata": {},
     "output_type": "execute_result"
    }
   ],
   "source": [
    "movies.index('venom')"
   ]
  },
  {
   "cell_type": "code",
   "execution_count": 26,
   "metadata": {},
   "outputs": [
    {
     "name": "stdout",
     "output_type": "stream",
     "text": [
      "2\n"
     ]
    }
   ],
   "source": [
    "if 'nobody' in movies:\n",
    "    print(movies.index('nobody'))"
   ]
  },
  {
   "cell_type": "code",
   "execution_count": 27,
   "metadata": {},
   "outputs": [
    {
     "data": {
      "text/plain": [
       "10"
      ]
     },
     "execution_count": 27,
     "metadata": {},
     "output_type": "execute_result"
    }
   ],
   "source": [
    "x=[1,2,3,1,2,3,1,2,3,1,2,3,4,1,52,36,21,23,3,1,1,1,1,1]\n",
    "x.count(1)"
   ]
  },
  {
   "cell_type": "markdown",
   "metadata": {},
   "source": [
    "## wap to enter 15 numbers in list,then print the sum,min,max,mean of that list"
   ]
  },
  {
   "cell_type": "code",
   "execution_count": 33,
   "metadata": {},
   "outputs": [
    {
     "name": "stdout",
     "output_type": "stream",
     "text": [
      "sum is 88\n",
      "mean is 5.866666666666666\n",
      "minimum value 1\n",
      "maximum value 12\n"
     ]
    }
   ],
   "source": [
    "lst=[1,2,3,4,5,6,7,8,9,5,6,12,3,9,8]\n",
    "add=0\n",
    "for i in lst:\n",
    "    add=add+i\n",
    "    mean=add/15\n",
    "print('sum is',add)\n",
    "print('mean is',mean)\n",
    "lst.sort()\n",
    "print('minimum value',lst[0])\n",
    "print('maximum value',lst[14])    "
   ]
  },
  {
   "cell_type": "code",
   "execution_count": 3,
   "metadata": {},
   "outputs": [
    {
     "name": "stdout",
     "output_type": "stream",
     "text": [
      "sums of nums =  67\n",
      "min of nums =  1\n",
      "max of nums =  9\n",
      "mean of nums =  4.466666666666667\n"
     ]
    }
   ],
   "source": [
    "nums=[]\n",
    "for i in range(15):\n",
    "    val= int(input(f'enter {i+1} number:'))\n",
    "    nums.append(val)\n",
    "print('sums of nums = ',sum(nums))\n",
    "print('min of nums = ',min(nums))\n",
    "print('max of nums = ',max(nums))\n",
    "print('mean of nums = ',sum(nums)/len(nums))    "
   ]
  },
  {
   "cell_type": "code",
   "execution_count": null,
   "metadata": {},
   "outputs": [],
   "source": []
  }
 ],
 "metadata": {
  "interpreter": {
   "hash": "ccb218f6f95b30277fee111b20de9c97f5b3d6e5c23fbcba94dee779a860256d"
  },
  "kernelspec": {
   "display_name": "Python 3.9.5 ('base')",
   "language": "python",
   "name": "python3"
  },
  "language_info": {
   "codemirror_mode": {
    "name": "ipython",
    "version": 3
   },
   "file_extension": ".py",
   "mimetype": "text/x-python",
   "name": "python",
   "nbconvert_exporter": "python",
   "pygments_lexer": "ipython3",
   "version": "3.9.5"
  },
  "orig_nbformat": 4
 },
 "nbformat": 4,
 "nbformat_minor": 2
}
