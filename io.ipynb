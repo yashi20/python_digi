{
 "cells": [
  {
   "cell_type": "code",
   "execution_count": 2,
   "metadata": {},
   "outputs": [],
   "source": [
    "x=10\n",
    "y=20\n",
    "z='apples'"
   ]
  },
  {
   "cell_type": "code",
   "execution_count": 3,
   "metadata": {},
   "outputs": [
    {
     "name": "stdout",
     "output_type": "stream",
     "text": [
      "10\n",
      "20\n",
      "apples\n"
     ]
    }
   ],
   "source": [
    "print(x)\n",
    "print(y)\n",
    "print(z)"
   ]
  },
  {
   "cell_type": "code",
   "execution_count": 7,
   "metadata": {},
   "outputs": [
    {
     "name": "stdout",
     "output_type": "stream",
     "text": [
      "apple,banana,cherry,dragonfruit\n"
     ]
    }
   ],
   "source": [
    "print(\"apple\",'banana','cherry','dragonfruit',sep=',')"
   ]
  },
  {
   "cell_type": "markdown",
   "metadata": {},
   "source": [
    "# How to display text mixed with variables\n",
    "- comma separated✅\n",
    "- format specifier\n",
    "- using + as concatination\n",
    "- using format() function\n",
    "- using f-strings✅"
   ]
  },
  {
   "cell_type": "code",
   "execution_count": 8,
   "metadata": {},
   "outputs": [],
   "source": [
    "lang='python'\n",
    "lc='easy'\n",
    "version='3.10'\n",
    "creator='Guido Von Rossum'"
   ]
  },
  {
   "cell_type": "code",
   "execution_count": 9,
   "metadata": {},
   "outputs": [
    {
     "name": "stdout",
     "output_type": "stream",
     "text": [
      "python is an easy language created by Guido Von Rossum the current version is 3.10\n"
     ]
    }
   ],
   "source": [
    "print(lang,\"is an\",lc,\"language created by\",creator,\"the current version is\",version)"
   ]
  },
  {
   "cell_type": "code",
   "execution_count": 11,
   "metadata": {},
   "outputs": [
    {
     "name": "stdout",
     "output_type": "stream",
     "text": [
      "python is an easy language created by Guido Von Rossum, the current version is 3.10\n"
     ]
    }
   ],
   "source": [
    "print('%s is an %s language created by %s, the current version is %s'%(lang,lc,creator,version))"
   ]
  },
  {
   "cell_type": "code",
   "execution_count": 10,
   "metadata": {},
   "outputs": [
    {
     "name": "stdout",
     "output_type": "stream",
     "text": [
      "python is an easy language created by Guido Von Rossum, the current version is 3.10\n"
     ]
    }
   ],
   "source": [
    "print('{0} is an {1} language created by {2}, the current version is {3}'.format(lang,lc,creator,version))"
   ]
  },
  {
   "cell_type": "code",
   "execution_count": 12,
   "metadata": {},
   "outputs": [
    {
     "name": "stdout",
     "output_type": "stream",
     "text": [
      "python is an easy language created by Guido Von Rossum the current version is 3.10\n"
     ]
    }
   ],
   "source": [
    "print(lang + \" is an \"+lc+\" language created by \"+creator+\" the current version is \"+version)"
   ]
  },
  {
   "cell_type": "markdown",
   "metadata": {},
   "source": [
    "- The better way to create and print message in python is f-string introduced in version 3.6"
   ]
  },
  {
   "cell_type": "code",
   "execution_count": 14,
   "metadata": {},
   "outputs": [
    {
     "name": "stdout",
     "output_type": "stream",
     "text": [
      "python is an easy language created by Guido Von Rossum,the current version is 3.10\n"
     ]
    }
   ],
   "source": [
    "print(f'{lang} is an {lc} language created by {creator},the current version is {version}')"
   ]
  },
  {
   "cell_type": "markdown",
   "metadata": {},
   "source": [
    "# Input Function"
   ]
  },
  {
   "cell_type": "code",
   "execution_count": 19,
   "metadata": {},
   "outputs": [
    {
     "name": "stdout",
     "output_type": "stream",
     "text": [
      "yashi 20 were given\n",
      "<class 'str'> <class 'str'>\n"
     ]
    }
   ],
   "source": [
    "name=input(\"enter ur name\")\n",
    "age=input(\"enter ur age\")\n",
    "print(name,age,\"were given\")\n",
    "print(type(name),type(age))"
   ]
  },
  {
   "cell_type": "code",
   "execution_count": 28,
   "metadata": {},
   "outputs": [
    {
     "name": "stdout",
     "output_type": "stream",
     "text": [
      "60\n"
     ]
    }
   ],
   "source": [
    "temp=int(input('enter temperature in degrees'))\n",
    "print(temp+10)"
   ]
  },
  {
   "cell_type": "code",
   "execution_count": null,
   "metadata": {},
   "outputs": [],
   "source": []
  }
 ],
 "metadata": {
  "interpreter": {
   "hash": "ccb218f6f95b30277fee111b20de9c97f5b3d6e5c23fbcba94dee779a860256d"
  },
  "kernelspec": {
   "display_name": "Python 3.9.5 64-bit ('base': conda)",
   "language": "python",
   "name": "python3"
  },
  "language_info": {
   "codemirror_mode": {
    "name": "ipython",
    "version": 3
   },
   "file_extension": ".py",
   "mimetype": "text/x-python",
   "name": "python",
   "nbconvert_exporter": "python",
   "pygments_lexer": "ipython3",
   "version": "3.9.5"
  },
  "orig_nbformat": 4
 },
 "nbformat": 4,
 "nbformat_minor": 2
}
